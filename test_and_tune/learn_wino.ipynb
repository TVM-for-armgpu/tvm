{
 "cells": [
  {
   "cell_type": "code",
   "execution_count": 84,
   "id": "natural-france",
   "metadata": {},
   "outputs": [],
   "source": [
    "import tvm\n",
    "from tvm import te, topi\n",
    "from tvm.topi import nn\n",
    "from numbers import Integral\n",
    "import numpy as np"
   ]
  },
  {
   "cell_type": "code",
   "execution_count": 85,
   "id": "baking-portrait",
   "metadata": {},
   "outputs": [],
   "source": [
    "def get_const_tuple(in_tuple):\n",
    "    \"\"\"Verifies input tuple is IntImm or Var, returns tuple of int or Var.\n",
    "\n",
    "    Parameters\n",
    "    ----------\n",
    "    in_tuple : tuple of Expr\n",
    "        The input.\n",
    "\n",
    "    Returns\n",
    "    -------\n",
    "    out_tuple : tuple of int\n",
    "        The output.\n",
    "    \"\"\"\n",
    "    ret = []\n",
    "    ana = None\n",
    "    for elem in in_tuple:\n",
    "        if isinstance(elem, (tvm.tir.Var, tvm.tir.expr.Any)):\n",
    "            ret.append(elem)\n",
    "        elif not isinstance(elem, (tvm.tir.IntImm, int)):\n",
    "            ana = tvm.arith.Analyzer() if ana is None else ana\n",
    "            elem = ana.simplify(elem)\n",
    "            if not isinstance(elem, tvm.tir.IntImm):\n",
    "                ret.append(elem)\n",
    "            else:\n",
    "                ret.append(get_const_int(elem))\n",
    "        else:\n",
    "            ret.append(get_const_int(elem))\n",
    "    return tuple(ret)\n",
    "def get_const_int(expr):\n",
    "    \"\"\"Verifies expr is integer and get the constant value.\n",
    "\n",
    "    Parameters\n",
    "    ----------\n",
    "    expr : tvm.Expr or int\n",
    "        The input expression.\n",
    "\n",
    "    Returns\n",
    "    -------\n",
    "    out_value : int\n",
    "        The output.\n",
    "    \"\"\"\n",
    "    if isinstance(expr, Integral):\n",
    "        return expr\n",
    "    if not isinstance(expr, tvm.tir.IntImm):\n",
    "        ana = tvm.arith.Analyzer()\n",
    "        expr = ana.simplify(expr)\n",
    "    if not isinstance(expr, tvm.tir.IntImm):\n",
    "        raise ValueError(\"Expect value to be constant int\")\n",
    "    return int(expr.value)\n"
   ]
  },
  {
   "cell_type": "code",
   "execution_count": 86,
   "id": "incomplete-tomato",
   "metadata": {},
   "outputs": [
    {
     "name": "stdout",
     "output_type": "stream",
     "text": [
      "2\n"
     ]
    }
   ],
   "source": [
    "H=40\n",
    "W = 40\n",
    "H_P, W_P = H, W\n",
    "KW=KH=3\n",
    "\n",
    "CI=16\n",
    "CO=16\n",
    "\n",
    "in_channel = CI\n",
    "out_channel = CO\n",
    "in_size=H\n",
    "open_image = 0\n",
    "ddtype = 'float32'\n",
    "\n",
    "data_pl = te.placeholder((1, CI, H, W),\n",
    "                         name='data', dtype=ddtype)\n",
    "kernel_pl = te.placeholder((CO, CI, KW, KH),\n",
    "                           name='filter', dtype=ddtype)\n",
    "\n",
    "\n",
    "\n",
    "data, kernel=data_pl,kernel_pl\n",
    "N, CI, IH, IW = get_const_tuple(data.shape)\n",
    "dilation=1\n",
    "strides=1\n",
    "padding=1\n",
    "tile_size=2\n",
    "out_dtype='float32'\n",
    "if isinstance(dilation, int):\n",
    "    dilation_h = dilation_w = dilation\n",
    "else:\n",
    "    dilation_h, dilation_w = dilation\n",
    "\n",
    "if len(kernel.shape) == 4:\n",
    "    if dilation_h != 1 or dilation_w != 1:\n",
    "        kernel = nn.dilate(kernel, (1, 1, dilation_h, dilation_w))\n",
    "    pre_computed = False\n",
    "    CO, _, KH, KW = get_const_tuple(kernel.shape)\n",
    "else:\n",
    "    assert (dilation_h, dilation_w) == (1, 1), \"Does not support dilation\"\n",
    "    pre_computed = True\n",
    "    H_CAT, W_CAT, CO, CI, VC = get_const_tuple(kernel.shape)\n",
    "    CO *= VC\n",
    "    KH, KW = H_CAT - tile_size + 1, W_CAT - tile_size + 1\n",
    "HSTR, WSTR = strides if isinstance(strides, (tuple, list)) else (strides, strides)\n",
    "pt, pl, pb, pr = nn.get_pad_tuple(padding, (KH, KW))\n",
    "\n",
    "assert KH == 3 and KW == 3 and HSTR == 1 and WSTR == 1\n",
    "data_pad = nn.pad(data, (0, 0, pt, pl), (0, 0, pb, pr), name=\"data_pad\")\n",
    "\n",
    "r = KW\n",
    "m = tile_size\n",
    "alpha = m + r - 1\n",
    "\n",
    "A, B, G = nn.winograd_util.winograd_transform_matrices(m, r, out_dtype)\n",
    "\n",
    "H = (IH + pt + pb - 3) // HSTR + 1\n",
    "W = (IW + pl + pr - 3) // WSTR + 1\n",
    "nH, nW = (H + m - 1) // m, (W + m - 1) // m\n",
    "P = N * nH * nW\n",
    "bna=nH\n",
    "bnb=nW\n",
    "P_round = (P + bnb - 1) // bnb * bnb    \n",
    "print(m)\n",
    "input_tile = te.compute(\n",
    "    (CI, P_round // bnb, alpha, alpha, bnb),\n",
    "    lambda ci, b, eps, nu, bb: tvm.tir.if_then_else(\n",
    "        b * bnb + bb < P,\n",
    "        data_pad[(b * bnb + bb) // (nH * nW)][ci][(b * bnb + bb) // nW % nH * m + eps][\n",
    "            (b * bnb + bb) % nW * m + nu],\n",
    "        tvm.tir.const(0, data_pad.dtype),\n",
    "    ),\n",
    "    name=\"d\",\n",
    ")\n"
   ]
  },
  {
   "cell_type": "code",
   "execution_count": 91,
   "id": "valid-deficit",
   "metadata": {},
   "outputs": [
    {
     "name": "stdout",
     "output_type": "stream",
     "text": [
      "[1, 16, 40, 40]\n",
      "[1, 16, 42, 42]\n"
     ]
    },
    {
     "data": {
      "text/plain": [
       "(1, 1)"
      ]
     },
     "execution_count": 91,
     "metadata": {},
     "output_type": "execute_result"
    }
   ],
   "source": [
    "print(data.shape)\n",
    "print(data_pad.shape)\n",
    "pt, pl\n",
    "pb, pr"
   ]
  },
  {
   "cell_type": "code",
   "execution_count": 9,
   "id": "intended-catalog",
   "metadata": {},
   "outputs": [
    {
     "name": "stdout",
     "output_type": "stream",
     "text": [
      "primfn(data_1: handle, filter_1: handle, d_1: handle) -> ()\n",
      "  attr = {\"global_symbol\": \"main\", \"tir.noalias\": True}\n",
      "  buffers = {d: Buffer(d_2: Pointer(float32), float32, [16, 20, 4, 4, 20], []),\n",
      "             data: Buffer(data_2: Pointer(float32), float32, [1, 16, 40, 40], []),\n",
      "             filter: Buffer(filter_2: Pointer(float32), float32, [16, 16, 3, 3], [])}\n",
      "  buffer_map = {data_1: data, filter_1: filter, d_1: d} {\n",
      "  attr [data_pad: Pointer(float32)] \"storage_scope\" = \"global\";\n",
      "  allocate(data_pad, float32, [28224]) {\n",
      "    for (i1: int32, 0, 16) {\n",
      "      for (i2: int32, 0, 42) {\n",
      "        for (i3: int32, 0, 42) {\n",
      "          data_pad[(((i1*1764) + (i2*42)) + i3)] = @tir.if_then_else(((((1 <= i2) && (i2 < 41)) && (1 <= i3)) && (i3 < 41)), (float32*)data_2[((((i1*1600) + (i2*40)) + i3) - 41)], 0f32, dtype=float32)\n",
      "        }\n",
      "      }\n",
      "    }\n",
      "    for (ci: int32, 0, 16) {\n",
      "      for (b: int32, 0, 20) {\n",
      "        for (eps: int32, 0, 4) {\n",
      "          for (nu: int32, 0, 4) {\n",
      "            for (bb: int32, 0, 20) {\n",
      "              d_2[(((((ci*6400) + (b*320)) + (eps*80)) + (nu*20)) + bb)] = (float32*)data_pad[(((((ci*1764) + (b*84)) + (eps*42)) + (bb*2)) + nu)]\n",
      "            }\n",
      "          }\n",
      "        }\n",
      "      }\n",
      "    }\n",
      "  }\n",
      "}\n",
      "\n",
      "\n"
     ]
    }
   ],
   "source": [
    "s = te.create_schedule(input_tile.op)\n",
    "print(tvm.lower(s,[data,kernel,input_tile], simple_mode=True))\n",
    "func=tvm.build(s,[data,kernel,input_tile])\n",
    "ctx=tvm.context(\"llvm\", 0)"
   ]
  },
  {
   "cell_type": "code",
   "execution_count": 10,
   "id": "local-lambda",
   "metadata": {
    "scrolled": true
   },
   "outputs": [
    {
     "name": "stdout",
     "output_type": "stream",
     "text": [
      "(16, 20, 4, 4, 20)\n"
     ]
    },
    {
     "data": {
      "text/plain": [
       "array([[[[   0, 1641, 1643, 1645, 1647, 1649, 1651, 1653, 1655, 1657,\n",
       "          1659, 1661, 1663, 1665, 1667, 1669, 1671, 1673, 1675, 1677],\n",
       "         [1640, 1642, 1644, 1646, 1648, 1650, 1652, 1654, 1656, 1658,\n",
       "          1660, 1662, 1664, 1666, 1668, 1670, 1672, 1674, 1676, 1678],\n",
       "         [1641, 1643, 1645, 1647, 1649, 1651, 1653, 1655, 1657, 1659,\n",
       "          1661, 1663, 1665, 1667, 1669, 1671, 1673, 1675, 1677, 1679],\n",
       "         [1642, 1644, 1646, 1648, 1650, 1652, 1654, 1656, 1658, 1660,\n",
       "          1662, 1664, 1666, 1668, 1670, 1672, 1674, 1676, 1678,    0]],\n",
       "\n",
       "        [[   0, 1681, 1683, 1685, 1687, 1689, 1691, 1693, 1695, 1697,\n",
       "          1699, 1701, 1703, 1705, 1707, 1709, 1711, 1713, 1715, 1717],\n",
       "         [1680, 1682, 1684, 1686, 1688, 1690, 1692, 1694, 1696, 1698,\n",
       "          1700, 1702, 1704, 1706, 1708, 1710, 1712, 1714, 1716, 1718],\n",
       "         [1681, 1683, 1685, 1687, 1689, 1691, 1693, 1695, 1697, 1699,\n",
       "          1701, 1703, 1705, 1707, 1709, 1711, 1713, 1715, 1717, 1719],\n",
       "         [1682, 1684, 1686, 1688, 1690, 1692, 1694, 1696, 1698, 1700,\n",
       "          1702, 1704, 1706, 1708, 1710, 1712, 1714, 1716, 1718,    0]],\n",
       "\n",
       "        [[   0, 1721, 1723, 1725, 1727, 1729, 1731, 1733, 1735, 1737,\n",
       "          1739, 1741, 1743, 1745, 1747, 1749, 1751, 1753, 1755, 1757],\n",
       "         [1720, 1722, 1724, 1726, 1728, 1730, 1732, 1734, 1736, 1738,\n",
       "          1740, 1742, 1744, 1746, 1748, 1750, 1752, 1754, 1756, 1758],\n",
       "         [1721, 1723, 1725, 1727, 1729, 1731, 1733, 1735, 1737, 1739,\n",
       "          1741, 1743, 1745, 1747, 1749, 1751, 1753, 1755, 1757, 1759],\n",
       "         [1722, 1724, 1726, 1728, 1730, 1732, 1734, 1736, 1738, 1740,\n",
       "          1742, 1744, 1746, 1748, 1750, 1752, 1754, 1756, 1758,    0]],\n",
       "\n",
       "        [[   0, 1761, 1763, 1765, 1767, 1769, 1771, 1773, 1775, 1777,\n",
       "          1779, 1781, 1783, 1785, 1787, 1789, 1791, 1793, 1795, 1797],\n",
       "         [1760, 1762, 1764, 1766, 1768, 1770, 1772, 1774, 1776, 1778,\n",
       "          1780, 1782, 1784, 1786, 1788, 1790, 1792, 1794, 1796, 1798],\n",
       "         [1761, 1763, 1765, 1767, 1769, 1771, 1773, 1775, 1777, 1779,\n",
       "          1781, 1783, 1785, 1787, 1789, 1791, 1793, 1795, 1797, 1799],\n",
       "         [1762, 1764, 1766, 1768, 1770, 1772, 1774, 1776, 1778, 1780,\n",
       "          1782, 1784, 1786, 1788, 1790, 1792, 1794, 1796, 1798,    0]]],\n",
       "\n",
       "\n",
       "       [[[   0, 1721, 1723, 1725, 1727, 1729, 1731, 1733, 1735, 1737,\n",
       "          1739, 1741, 1743, 1745, 1747, 1749, 1751, 1753, 1755, 1757],\n",
       "         [1720, 1722, 1724, 1726, 1728, 1730, 1732, 1734, 1736, 1738,\n",
       "          1740, 1742, 1744, 1746, 1748, 1750, 1752, 1754, 1756, 1758],\n",
       "         [1721, 1723, 1725, 1727, 1729, 1731, 1733, 1735, 1737, 1739,\n",
       "          1741, 1743, 1745, 1747, 1749, 1751, 1753, 1755, 1757, 1759],\n",
       "         [1722, 1724, 1726, 1728, 1730, 1732, 1734, 1736, 1738, 1740,\n",
       "          1742, 1744, 1746, 1748, 1750, 1752, 1754, 1756, 1758,    0]],\n",
       "\n",
       "        [[   0, 1761, 1763, 1765, 1767, 1769, 1771, 1773, 1775, 1777,\n",
       "          1779, 1781, 1783, 1785, 1787, 1789, 1791, 1793, 1795, 1797],\n",
       "         [1760, 1762, 1764, 1766, 1768, 1770, 1772, 1774, 1776, 1778,\n",
       "          1780, 1782, 1784, 1786, 1788, 1790, 1792, 1794, 1796, 1798],\n",
       "         [1761, 1763, 1765, 1767, 1769, 1771, 1773, 1775, 1777, 1779,\n",
       "          1781, 1783, 1785, 1787, 1789, 1791, 1793, 1795, 1797, 1799],\n",
       "         [1762, 1764, 1766, 1768, 1770, 1772, 1774, 1776, 1778, 1780,\n",
       "          1782, 1784, 1786, 1788, 1790, 1792, 1794, 1796, 1798,    0]],\n",
       "\n",
       "        [[   0, 1801, 1803, 1805, 1807, 1809, 1811, 1813, 1815, 1817,\n",
       "          1819, 1821, 1823, 1825, 1827, 1829, 1831, 1833, 1835, 1837],\n",
       "         [1800, 1802, 1804, 1806, 1808, 1810, 1812, 1814, 1816, 1818,\n",
       "          1820, 1822, 1824, 1826, 1828, 1830, 1832, 1834, 1836, 1838],\n",
       "         [1801, 1803, 1805, 1807, 1809, 1811, 1813, 1815, 1817, 1819,\n",
       "          1821, 1823, 1825, 1827, 1829, 1831, 1833, 1835, 1837, 1839],\n",
       "         [1802, 1804, 1806, 1808, 1810, 1812, 1814, 1816, 1818, 1820,\n",
       "          1822, 1824, 1826, 1828, 1830, 1832, 1834, 1836, 1838,    0]],\n",
       "\n",
       "        [[   0, 1841, 1843, 1845, 1847, 1849, 1851, 1853, 1855, 1857,\n",
       "          1859, 1861, 1863, 1865, 1867, 1869, 1871, 1873, 1875, 1877],\n",
       "         [1840, 1842, 1844, 1846, 1848, 1850, 1852, 1854, 1856, 1858,\n",
       "          1860, 1862, 1864, 1866, 1868, 1870, 1872, 1874, 1876, 1878],\n",
       "         [1841, 1843, 1845, 1847, 1849, 1851, 1853, 1855, 1857, 1859,\n",
       "          1861, 1863, 1865, 1867, 1869, 1871, 1873, 1875, 1877, 1879],\n",
       "         [1842, 1844, 1846, 1848, 1850, 1852, 1854, 1856, 1858, 1860,\n",
       "          1862, 1864, 1866, 1868, 1870, 1872, 1874, 1876, 1878,    0]]]],\n",
       "      dtype=int32)"
      ]
     },
     "execution_count": 10,
     "metadata": {},
     "output_type": "execute_result"
    }
   ],
   "source": [
    "osp=input_tile.shape\n",
    "a_np_tvm=np.arange(in_channel*H*W).reshape(1,in_channel,H,W)\n",
    "w_np_tvm=np.arange(KW*KH*in_channel*out_channel).reshape(out_channel,in_channel,KW,KH)\n",
    "a_tvm = tvm.nd.array(a_np_tvm, ctx=ctx, dtype=data_pl.dtype)\n",
    "w_tvm = tvm.nd.array(w_np_tvm, ctx=ctx, dtype=kernel_pl.dtype)\n",
    "c_tvm = tvm.nd.empty(osp, ctx=ctx, dtype=input_tile.dtype)\n",
    "func(a_tvm, w_tvm, c_tvm)\n",
    "print(c_tvm.shape)\n",
    "c_tvm.asnumpy().astype('int32')[1,1:3,:,:,:]"
   ]
  },
  {
   "cell_type": "code",
   "execution_count": 11,
   "id": "exposed-salvation",
   "metadata": {},
   "outputs": [],
   "source": [
    "A_data, B_data, G_data = nn.winograd_util._cook_toom_convolution(nn.winograd_util._interpolation_points(tile_size+2), tile_size, KH)\n",
    "A, B, G=nn.winograd_util.winograd_transform_matrices(tile_size,KH,'float32')\n",
    "r_kh = te.reduce_axis((0, KH), \"r_kh\")\n",
    "r_kw = te.reduce_axis((0, KW), \"r_kw\")\n",
    "U = te.compute(\n",
    "    (alpha, alpha, CO // bna, CI, bna),\n",
    "    lambda eps, nu, co, ci, vco: te.sum(\n",
    "        kernel[co * bna + vco][ci][r_kh][r_kw] * G[eps][r_kh] * G[nu][r_kw],\n",
    "        axis=[r_kh, r_kw],\n",
    "    ),\n",
    "    name=\"U\",\n",
    ")\n"
   ]
  },
  {
   "cell_type": "code",
   "execution_count": 12,
   "id": "minimal-rebate",
   "metadata": {},
   "outputs": [
    {
     "name": "stdout",
     "output_type": "stream",
     "text": [
      "primfn(data_1: handle, filter_1: handle, d_1: handle) -> ()\n",
      "  attr = {\"global_symbol\": \"main\", \"tir.noalias\": True}\n",
      "  buffers = {d: Buffer(d_2: Pointer(float32), float32, [16, 20, 4, 4, 20], []),\n",
      "             data: Buffer(data_2: Pointer(float32), float32, [1, 16, 40, 40], []),\n",
      "             filter: Buffer(filter_2: Pointer(float32), float32, [16, 16, 3, 3], [])}\n",
      "  buffer_map = {data_1: data, filter_1: filter, d_1: d} {\n",
      "  attr [G: Pointer(float32)] \"storage_scope\" = \"global\";\n",
      "  allocate(G, float32, [12]);\n",
      "  attr [U: Pointer(float32)] \"storage_scope\" = \"global\";\n",
      "  allocate(U, float32, [0]);\n",
      "  for (i: int32, 0, 4) {\n",
      "    for (j: int32, 0, 3) {\n",
      "      G[((i*3) + j)] = select(((i == 3) && (j == 2)), 1f32, select(((i == 3) && (j == 1)), 0f32, select(((i == 3) && (j == 0)), 0f32, select(((i == 2) && (j == 2)), 0.5f32, select(((i == 2) && (j == 1)), 0.5f32, select(((i == 2) && (j == 0)), 0.5f32, select(((i == 1) && (j == 2)), 0.5f32, select(((i == 1) && (j == 1)), -0.5f32, select(((i == 1) && (j == 0)), 0.5f32, select(((i == 0) && (j == 2)), 0f32, select(((i == 0) && (j == 1)), 0f32, select(((i == 0) && (j == 0)), 1f32, 0f32\n",
      "    }\n",
      "  }\n",
      "}\n",
      "\n",
      "\n",
      "source not imported\n",
      "(4, 4, 0, 16, 20)\n"
     ]
    }
   ],
   "source": [
    "BOUT=U\n",
    "c_tvm = tvm.nd.empty(BOUT.shape, ctx=ctx,dtype='float32')\n",
    "s = te.create_schedule(BOUT.op)\n",
    "print(tvm.lower(s,[data,kernel,input_tile], simple_mode=True))\n",
    "func=tvm.build(s,[kernel,BOUT])\n",
    "print(func.imported_modules[0].get_source()) if len(func.imported_modules) > 0 else print(\"source not imported\")\n",
    "\n",
    "func(w_tvm,c_tvm)\n",
    "print(c_tvm.shape)"
   ]
  },
  {
   "cell_type": "code",
   "execution_count": 24,
   "id": "blessed-bahamas",
   "metadata": {},
   "outputs": [
    {
     "name": "stdout",
     "output_type": "stream",
     "text": [
      "===\n"
     ]
    },
    {
     "ename": "IndexError",
     "evalue": "index 0 is out of bounds for axis 2 with size 0",
     "output_type": "error",
     "traceback": [
      "\u001b[0;31m---------------------------------------------------------------------------\u001b[0m",
      "\u001b[0;31mIndexError\u001b[0m                                Traceback (most recent call last)",
      "\u001b[0;32m<ipython-input-24-de0b9ea5c8ac>\u001b[0m in \u001b[0;36m<module>\u001b[0;34m\u001b[0m\n\u001b[1;32m      2\u001b[0m \u001b[0;31m#print(ugg)\u001b[0m\u001b[0;34m\u001b[0m\u001b[0;34m\u001b[0m\u001b[0;34m\u001b[0m\u001b[0m\n\u001b[1;32m      3\u001b[0m \u001b[0mprint\u001b[0m\u001b[0;34m(\u001b[0m\u001b[0;34m\"===\"\u001b[0m\u001b[0;34m)\u001b[0m\u001b[0;34m\u001b[0m\u001b[0;34m\u001b[0m\u001b[0m\n\u001b[0;32m----> 4\u001b[0;31m \u001b[0mrugg\u001b[0m\u001b[0;34m=\u001b[0m\u001b[0mc_tvm\u001b[0m\u001b[0;34m.\u001b[0m\u001b[0masnumpy\u001b[0m\u001b[0;34m(\u001b[0m\u001b[0;34m)\u001b[0m\u001b[0;34m[\u001b[0m\u001b[0;34m:\u001b[0m\u001b[0;34m,\u001b[0m\u001b[0;34m:\u001b[0m\u001b[0;34m,\u001b[0m\u001b[0;36m0\u001b[0m\u001b[0;34m,\u001b[0m\u001b[0;36m0\u001b[0m\u001b[0;34m,\u001b[0m\u001b[0;36m0\u001b[0m\u001b[0;34m]\u001b[0m\u001b[0;34m\u001b[0m\u001b[0;34m\u001b[0m\u001b[0m\n\u001b[0m\u001b[1;32m      5\u001b[0m \u001b[0;31m#print(rugg)\u001b[0m\u001b[0;34m\u001b[0m\u001b[0;34m\u001b[0m\u001b[0;34m\u001b[0m\u001b[0m\n\u001b[1;32m      6\u001b[0m \u001b[0mnp\u001b[0m\u001b[0;34m.\u001b[0m\u001b[0msum\u001b[0m\u001b[0;34m(\u001b[0m\u001b[0mugg\u001b[0m\u001b[0;34m-\u001b[0m\u001b[0mrugg\u001b[0m\u001b[0;34m)\u001b[0m\u001b[0;34m<\u001b[0m\u001b[0;36m1e2\u001b[0m\u001b[0;34m\u001b[0m\u001b[0;34m\u001b[0m\u001b[0m\n",
      "\u001b[0;31mIndexError\u001b[0m: index 0 is out of bounds for axis 2 with size 0"
     ]
    }
   ],
   "source": [
    "ugg=G_data.dot(w_tvm.asnumpy()[0,0,:,:]).dot(G_data.T)\n",
    "#print(ugg)\n",
    "print(\"===\")\n",
    "rugg=c_tvm.asnumpy()[:,:,0,0,0]\n",
    "#print(rugg)\n",
    "np.sum(ugg-rugg)<1e2"
   ]
  },
  {
   "cell_type": "code",
   "execution_count": 25,
   "id": "enclosed-winning",
   "metadata": {},
   "outputs": [
    {
     "name": "stdout",
     "output_type": "stream",
     "text": [
      "(4, 4, 0, 16, 20)\n",
      "(1, 16, 40, 40)\n"
     ]
    },
    {
     "data": {
      "text/plain": [
       "array([], shape=(0, 16, 20), dtype=int64)"
      ]
     },
     "execution_count": 25,
     "metadata": {},
     "output_type": "execute_result"
    }
   ],
   "source": [
    "print(c_tvm.shape)\n",
    "print(a_np_tvm.shape)\n",
    "#print(a_np_tvm)\n",
    "c_tvm.asnumpy().astype(np.int)[0,1,:,:,:]"
   ]
  },
  {
   "cell_type": "code",
   "execution_count": 26,
   "id": "proved-detail",
   "metadata": {},
   "outputs": [
    {
     "name": "stdout",
     "output_type": "stream",
     "text": [
      "4 4 20 16 20\n"
     ]
    }
   ],
   "source": [
    "# transform image\n",
    "print(alpha, alpha, P_round // bnb, CI, bnb)\n",
    "r_a = te.reduce_axis((0, alpha), \"r_a\")\n",
    "r_b = te.reduce_axis((0, alpha), \"r_b\")\n",
    "V = te.compute(\n",
    "    (alpha, alpha, P_round // bnb, CI, bnb),\n",
    "    lambda eps, nu, p, ci, vp: te.sum(\n",
    "        input_tile[ci][p][r_a][r_b][vp] * B[r_a][eps] * B[r_b][nu], axis=[r_a, r_b]\n",
    "    ),\n",
    "    name=\"V\",\n",
    ")"
   ]
  },
  {
   "cell_type": "code",
   "execution_count": 82,
   "id": "supported-montgomery",
   "metadata": {},
   "outputs": [
    {
     "name": "stdout",
     "output_type": "stream",
     "text": [
      "__constant sampler_t sampler = CLK_NORMALIZED_COORDS_FALSE | CLK_ADDRESS_CLAMP_TO_EDGE| CLK_FILTER_NEAREST;\n",
      "__kernel void default_function_kernel0(__global float* restrict V, __global float* restrict data, __global float* restrict B) {\n",
      "  for (int wi = 0; wi < 80; ++wi) {\n",
      "    V[(((((int)get_local_id(0)) * 80) + wi))] = 0.000000e+00f;\n",
      "    V[(((((int)get_local_id(0)) * 80) + wi))] = (V[(((((int)get_local_id(0)) * 80) + wi))] + ((data[((((((int)get_local_id(0)) >> 1) * 40) + (wi >> 1)))] * B[((wi & 3))]) * B[((((int)get_local_id(0)) & 3))]));\n",
      "    V[(((((int)get_local_id(0)) * 80) + wi))] = (V[(((((int)get_local_id(0)) * 80) + wi))] + ((data[(((((((int)get_local_id(0)) >> 1) * 40) + (wi >> 1)) + 1))] * B[((wi & 3))]) * B[(((((int)get_local_id(0)) & 3) + 4))]));\n",
      "    V[(((((int)get_local_id(0)) * 80) + wi))] = (V[(((((int)get_local_id(0)) * 80) + wi))] + ((data[(((((((int)get_local_id(0)) >> 1) * 40) + (wi >> 1)) + 2))] * B[((wi & 3))]) * B[(((((int)get_local_id(0)) & 3) + 8))]));\n",
      "    V[(((((int)get_local_id(0)) * 80) + wi))] = (V[(((((int)get_local_id(0)) * 80) + wi))] + ((data[(((((((int)get_local_id(0)) >> 1) * 40) + (wi >> 1)) + 3))] * B[((wi & 3))]) * B[(((((int)get_local_id(0)) & 3) + 12))]));\n",
      "    V[(((((int)get_local_id(0)) * 80) + wi))] = (V[(((((int)get_local_id(0)) * 80) + wi))] + ((data[(((((((int)get_local_id(0)) >> 1) * 40) + (wi >> 1)) + 40))] * B[(((wi & 3) + 4))]) * B[((((int)get_local_id(0)) & 3))]));\n",
      "    V[(((((int)get_local_id(0)) * 80) + wi))] = (V[(((((int)get_local_id(0)) * 80) + wi))] + ((data[(((((((int)get_local_id(0)) >> 1) * 40) + (wi >> 1)) + 41))] * B[(((wi & 3) + 4))]) * B[(((((int)get_local_id(0)) & 3) + 4))]));\n",
      "    V[(((((int)get_local_id(0)) * 80) + wi))] = (V[(((((int)get_local_id(0)) * 80) + wi))] + ((data[(((((((int)get_local_id(0)) >> 1) * 40) + (wi >> 1)) + 42))] * B[(((wi & 3) + 4))]) * B[(((((int)get_local_id(0)) & 3) + 8))]));\n",
      "    V[(((((int)get_local_id(0)) * 80) + wi))] = (V[(((((int)get_local_id(0)) * 80) + wi))] + ((data[(((((((int)get_local_id(0)) >> 1) * 40) + (wi >> 1)) + 43))] * B[(((wi & 3) + 4))]) * B[(((((int)get_local_id(0)) & 3) + 12))]));\n",
      "    V[(((((int)get_local_id(0)) * 80) + wi))] = (V[(((((int)get_local_id(0)) * 80) + wi))] + ((data[(((((((int)get_local_id(0)) >> 1) * 40) + (wi >> 1)) + 80))] * B[(((wi & 3) + 8))]) * B[((((int)get_local_id(0)) & 3))]));\n",
      "    V[(((((int)get_local_id(0)) * 80) + wi))] = (V[(((((int)get_local_id(0)) * 80) + wi))] + ((data[(((((((int)get_local_id(0)) >> 1) * 40) + (wi >> 1)) + 81))] * B[(((wi & 3) + 8))]) * B[(((((int)get_local_id(0)) & 3) + 4))]));\n",
      "    V[(((((int)get_local_id(0)) * 80) + wi))] = (V[(((((int)get_local_id(0)) * 80) + wi))] + ((data[(((((((int)get_local_id(0)) >> 1) * 40) + (wi >> 1)) + 82))] * B[(((wi & 3) + 8))]) * B[(((((int)get_local_id(0)) & 3) + 8))]));\n",
      "    V[(((((int)get_local_id(0)) * 80) + wi))] = (V[(((((int)get_local_id(0)) * 80) + wi))] + ((data[(((((((int)get_local_id(0)) >> 1) * 40) + (wi >> 1)) + 83))] * B[(((wi & 3) + 8))]) * B[(((((int)get_local_id(0)) & 3) + 12))]));\n",
      "    V[(((((int)get_local_id(0)) * 80) + wi))] = (V[(((((int)get_local_id(0)) * 80) + wi))] + ((data[(((((((int)get_local_id(0)) >> 1) * 40) + (wi >> 1)) + 120))] * B[(((wi & 3) + 12))]) * B[((((int)get_local_id(0)) & 3))]));\n",
      "    V[(((((int)get_local_id(0)) * 80) + wi))] = (V[(((((int)get_local_id(0)) * 80) + wi))] + ((data[(((((((int)get_local_id(0)) >> 1) * 40) + (wi >> 1)) + 121))] * B[(((wi & 3) + 12))]) * B[(((((int)get_local_id(0)) & 3) + 4))]));\n",
      "    V[(((((int)get_local_id(0)) * 80) + wi))] = (V[(((((int)get_local_id(0)) * 80) + wi))] + ((data[(((((((int)get_local_id(0)) >> 1) * 40) + (wi >> 1)) + 122))] * B[(((wi & 3) + 12))]) * B[(((((int)get_local_id(0)) & 3) + 8))]));\n",
      "    V[(((((int)get_local_id(0)) * 80) + wi))] = (V[(((((int)get_local_id(0)) * 80) + wi))] + ((data[(((((((int)get_local_id(0)) >> 1) * 40) + (wi >> 1)) + 123))] * B[(((wi & 3) + 12))]) * B[(((((int)get_local_id(0)) & 3) + 12))]));\n",
      "  }\n",
      "}\n",
      "\n",
      "\n"
     ]
    },
    {
     "ename": "TVMError",
     "evalue": "Traceback (most recent call last):\n  [bt] (5) /home/azureuser/work/tvm/build/libtvm.so(TVMFuncCall+0x95) [0x7fc58139b203]\n  [bt] (4) /home/azureuser/work/tvm/build/libtvm.so(tvm::runtime::PackedFunc::CallPacked(tvm::runtime::TVMArgs, tvm::runtime::TVMRetValue*) const+0x30) [0x7fc58058005c]\n  [bt] (3) /home/azureuser/work/tvm/build/libtvm.so(std::function<void (tvm::runtime::TVMArgs, tvm::runtime::TVMRetValue*)>::operator()(tvm::runtime::TVMArgs, tvm::runtime::TVMRetValue*) const+0x5a) [0x7fc58044e6d8]\n  [bt] (2) /home/azureuser/work/tvm/build/libtvm.so(+0x28f70de) [0x7fc5813a80de]\n  [bt] (1) /home/azureuser/work/tvm/build/libtvm.so(+0x28f59f5) [0x7fc5813a69f5]\n  [bt] (0) /home/azureuser/work/tvm/build/libtvm.so(dmlc::LogMessageFatal::~LogMessageFatal()+0x4e) [0x7fc580287c8c]\n  File \"/home/azureuser/work/tvm/src/runtime/library_module.cc\", line 78\nTVMError: \n---------------------------------------------------------------\nAn internal invariant was violated during the execution of TVM.\nPlease read TVM's error reporting guidelines.\nMore details can be found here: https://discuss.tvm.ai/t/error-reporting/7793.\n---------------------------------------------------------------\n\n  Check failed: ret == 0 (-1 vs. 0) : Assert fail: (4 == tir.tvm_struct_get(arg0, 0, 10)), Argument arg0.device_type has an unsatisfied constraint: (4 == tir.tvm_struct_get(arg0, 0, 10))",
     "output_type": "error",
     "traceback": [
      "\u001b[0;31m---------------------------------------------------------------------------\u001b[0m",
      "\u001b[0;31mTVMError\u001b[0m                                  Traceback (most recent call last)",
      "\u001b[0;32m<ipython-input-82-28991eb68bb0>\u001b[0m in \u001b[0;36m<module>\u001b[0;34m\u001b[0m\n\u001b[1;32m     27\u001b[0m \u001b[0ma_tvm1\u001b[0m \u001b[0;34m=\u001b[0m \u001b[0mtvm\u001b[0m\u001b[0;34m.\u001b[0m\u001b[0mnd\u001b[0m\u001b[0;34m.\u001b[0m\u001b[0marray\u001b[0m\u001b[0;34m(\u001b[0m\u001b[0ma_np_tvm1\u001b[0m\u001b[0;34m,\u001b[0m \u001b[0mctx\u001b[0m\u001b[0;34m=\u001b[0m\u001b[0mctx1\u001b[0m\u001b[0;34m,\u001b[0m \u001b[0mdtype\u001b[0m\u001b[0;34m=\u001b[0m\u001b[0mdata_pl\u001b[0m\u001b[0;34m.\u001b[0m\u001b[0mdtype\u001b[0m\u001b[0;34m)\u001b[0m\u001b[0;34m\u001b[0m\u001b[0;34m\u001b[0m\u001b[0m\n\u001b[1;32m     28\u001b[0m \u001b[0;31m#print(a_np_tvm1.astype('int32'))\u001b[0m\u001b[0;34m\u001b[0m\u001b[0;34m\u001b[0m\u001b[0;34m\u001b[0m\u001b[0m\n\u001b[0;32m---> 29\u001b[0;31m \u001b[0mfunc\u001b[0m\u001b[0;34m(\u001b[0m\u001b[0ma_tvm1\u001b[0m\u001b[0;34m,\u001b[0m\u001b[0mc_tvm\u001b[0m\u001b[0;34m)\u001b[0m\u001b[0;34m\u001b[0m\u001b[0;34m\u001b[0m\u001b[0m\n\u001b[0m\u001b[1;32m     30\u001b[0m \u001b[0;34m\u001b[0m\u001b[0m\n\u001b[1;32m     31\u001b[0m \u001b[0mnp\u001b[0m\u001b[0;34m.\u001b[0m\u001b[0mset_printoptions\u001b[0m\u001b[0;34m(\u001b[0m\u001b[0mthreshold\u001b[0m\u001b[0;34m=\u001b[0m\u001b[0;36m10000\u001b[0m\u001b[0;34m)\u001b[0m\u001b[0;34m\u001b[0m\u001b[0;34m\u001b[0m\u001b[0m\n",
      "\u001b[0;32m~/work/tvm/python/tvm/runtime/module.py\u001b[0m in \u001b[0;36m__call__\u001b[0;34m(self, *args)\u001b[0m\n\u001b[1;32m    110\u001b[0m             \u001b[0;32mreturn\u001b[0m \u001b[0mself\u001b[0m\u001b[0;34m.\u001b[0m\u001b[0m_entry\u001b[0m\u001b[0;34m(\u001b[0m\u001b[0;34m*\u001b[0m\u001b[0margs\u001b[0m\u001b[0;34m)\u001b[0m\u001b[0;34m\u001b[0m\u001b[0;34m\u001b[0m\u001b[0m\n\u001b[1;32m    111\u001b[0m         \u001b[0;31m# pylint: disable=not-callable\u001b[0m\u001b[0;34m\u001b[0m\u001b[0;34m\u001b[0m\u001b[0;34m\u001b[0m\u001b[0m\n\u001b[0;32m--> 112\u001b[0;31m         \u001b[0;32mreturn\u001b[0m \u001b[0mself\u001b[0m\u001b[0;34m.\u001b[0m\u001b[0mentry_func\u001b[0m\u001b[0;34m(\u001b[0m\u001b[0;34m*\u001b[0m\u001b[0margs\u001b[0m\u001b[0;34m)\u001b[0m\u001b[0;34m\u001b[0m\u001b[0;34m\u001b[0m\u001b[0m\n\u001b[0m\u001b[1;32m    113\u001b[0m \u001b[0;34m\u001b[0m\u001b[0m\n\u001b[1;32m    114\u001b[0m     \u001b[0;32mdef\u001b[0m \u001b[0m__repr__\u001b[0m\u001b[0;34m(\u001b[0m\u001b[0mself\u001b[0m\u001b[0;34m)\u001b[0m\u001b[0;34m:\u001b[0m\u001b[0;34m\u001b[0m\u001b[0;34m\u001b[0m\u001b[0m\n",
      "\u001b[0;32m~/work/tvm/python/tvm/_ffi/_cython/packed_func.pxi\u001b[0m in \u001b[0;36mtvm._ffi._cy3.core.PackedFuncBase.__call__\u001b[0;34m()\u001b[0m\n",
      "\u001b[0;32m~/work/tvm/python/tvm/_ffi/_cython/packed_func.pxi\u001b[0m in \u001b[0;36mtvm._ffi._cy3.core.FuncCall\u001b[0;34m()\u001b[0m\n",
      "\u001b[0;32m~/work/tvm/python/tvm/_ffi/_cython/packed_func.pxi\u001b[0m in \u001b[0;36mtvm._ffi._cy3.core.FuncCall3\u001b[0;34m()\u001b[0m\n",
      "\u001b[0;32m~/work/tvm/python/tvm/_ffi/_cython/base.pxi\u001b[0m in \u001b[0;36mtvm._ffi._cy3.core.CALL\u001b[0;34m()\u001b[0m\n",
      "\u001b[0;31mTVMError\u001b[0m: Traceback (most recent call last):\n  [bt] (5) /home/azureuser/work/tvm/build/libtvm.so(TVMFuncCall+0x95) [0x7fc58139b203]\n  [bt] (4) /home/azureuser/work/tvm/build/libtvm.so(tvm::runtime::PackedFunc::CallPacked(tvm::runtime::TVMArgs, tvm::runtime::TVMRetValue*) const+0x30) [0x7fc58058005c]\n  [bt] (3) /home/azureuser/work/tvm/build/libtvm.so(std::function<void (tvm::runtime::TVMArgs, tvm::runtime::TVMRetValue*)>::operator()(tvm::runtime::TVMArgs, tvm::runtime::TVMRetValue*) const+0x5a) [0x7fc58044e6d8]\n  [bt] (2) /home/azureuser/work/tvm/build/libtvm.so(+0x28f70de) [0x7fc5813a80de]\n  [bt] (1) /home/azureuser/work/tvm/build/libtvm.so(+0x28f59f5) [0x7fc5813a69f5]\n  [bt] (0) /home/azureuser/work/tvm/build/libtvm.so(dmlc::LogMessageFatal::~LogMessageFatal()+0x4e) [0x7fc580287c8c]\n  File \"/home/azureuser/work/tvm/src/runtime/library_module.cc\", line 78\nTVMError: \n---------------------------------------------------------------\nAn internal invariant was violated during the execution of TVM.\nPlease read TVM's error reporting guidelines.\nMore details can be found here: https://discuss.tvm.ai/t/error-reporting/7793.\n---------------------------------------------------------------\n\n  Check failed: ret == 0 (-1 vs. 0) : Assert fail: (4 == tir.tvm_struct_get(arg0, 0, 10)), Argument arg0.device_type has an unsatisfied constraint: (4 == tir.tvm_struct_get(arg0, 0, 10))"
     ]
    }
   ],
   "source": [
    "data_tr = te.placeholder((H, W),\n",
    "                         name='data', dtype=ddtype)\n",
    "r_a = te.reduce_axis((0, alpha), \"r_a\")\n",
    "r_b = te.reduce_axis((0, alpha), \"r_b\")\n",
    "r_c = te.reduce_axis((0, alpha), \"r_c\")\n",
    "V = te.compute(\n",
    "    (H//2*4,W//2*4),\n",
    "    lambda hi,wi: te.sum(\n",
    "        data_tr[hi//2+r_a][wi//2+r_b] * B[r_a][wi%4]*B[r_b][hi%4], axis=[r_a, r_b]\n",
    "    ),\n",
    "    name=\"V\",\n",
    ")\n",
    "BOUT=V\n",
    "ctx1=tvm.context(\"llvm\", 0)\n",
    "c_tvm = tvm.nd.empty(BOUT.shape, ctx=ctx1,dtype='float32')\n",
    "s = te.create_schedule(BOUT.op)\n",
    "thread_x = te.thread_axis((0, 1), \"threadIdx.x\")\n",
    "hi, wi = s[BOUT].op.axis\n",
    "s[BOUT].bind(hi, thread_x)\n",
    "ra,rb= s[BOUT].op.reduce_axis\n",
    "s[BOUT].unroll(ra)\n",
    "s[BOUT].unroll(rb)\n",
    "#print(tvm.lower(s,[data_tr,BOUT], simple_mode=True))\n",
    "func=tvm.build(s,[data_tr,BOUT],\"opencl\")\n",
    "print(func.imported_modules[0].get_source()) if len(func.imported_modules) > 0 else print(\"source not imported\")\n",
    "a_np_tvm1=np.arange(H*W).reshape(H,W)\n",
    "a_tvm1 = tvm.nd.array(a_np_tvm1, ctx=ctx1, dtype=data_pl.dtype)\n",
    "#print(a_np_tvm1.astype('int32'))\n",
    "func(a_tvm1,c_tvm)\n",
    "\n",
    "np.set_printoptions(threshold=10000)\n",
    "#print(c_tvm.asnumpy().astype('int32'))\n",
    "#print(B_data)"
   ]
  },
  {
   "cell_type": "code",
   "execution_count": 12,
   "id": "historical-behalf",
   "metadata": {},
   "outputs": [
    {
     "ename": "NameError",
     "evalue": "name 'V' is not defined",
     "output_type": "error",
     "traceback": [
      "\u001b[0;31m---------------------------------------------------------------------------\u001b[0m",
      "\u001b[0;31mNameError\u001b[0m                                 Traceback (most recent call last)",
      "\u001b[0;32m<ipython-input-12-7db0c087839e>\u001b[0m in \u001b[0;36m<module>\u001b[0;34m\u001b[0m\n\u001b[0;32m----> 1\u001b[0;31m \u001b[0mBOUT\u001b[0m\u001b[0;34m=\u001b[0m\u001b[0mV\u001b[0m\u001b[0;34m\u001b[0m\u001b[0;34m\u001b[0m\u001b[0m\n\u001b[0m\u001b[1;32m      2\u001b[0m \u001b[0mc_tvm\u001b[0m \u001b[0;34m=\u001b[0m \u001b[0mtvm\u001b[0m\u001b[0;34m.\u001b[0m\u001b[0mnd\u001b[0m\u001b[0;34m.\u001b[0m\u001b[0mempty\u001b[0m\u001b[0;34m(\u001b[0m\u001b[0mBOUT\u001b[0m\u001b[0;34m.\u001b[0m\u001b[0mshape\u001b[0m\u001b[0;34m,\u001b[0m \u001b[0mctx\u001b[0m\u001b[0;34m=\u001b[0m\u001b[0mctx\u001b[0m\u001b[0;34m,\u001b[0m\u001b[0mdtype\u001b[0m\u001b[0;34m=\u001b[0m\u001b[0;34m'float32'\u001b[0m\u001b[0;34m)\u001b[0m\u001b[0;34m\u001b[0m\u001b[0;34m\u001b[0m\u001b[0m\n\u001b[1;32m      3\u001b[0m \u001b[0ms\u001b[0m \u001b[0;34m=\u001b[0m \u001b[0mte\u001b[0m\u001b[0;34m.\u001b[0m\u001b[0mcreate_schedule\u001b[0m\u001b[0;34m(\u001b[0m\u001b[0mBOUT\u001b[0m\u001b[0;34m.\u001b[0m\u001b[0mop\u001b[0m\u001b[0;34m)\u001b[0m\u001b[0;34m\u001b[0m\u001b[0;34m\u001b[0m\u001b[0m\n\u001b[1;32m      4\u001b[0m \u001b[0mprint\u001b[0m\u001b[0;34m(\u001b[0m\u001b[0mtvm\u001b[0m\u001b[0;34m.\u001b[0m\u001b[0mlower\u001b[0m\u001b[0;34m(\u001b[0m\u001b[0ms\u001b[0m\u001b[0;34m,\u001b[0m\u001b[0;34m[\u001b[0m\u001b[0mdata\u001b[0m\u001b[0;34m,\u001b[0m\u001b[0mBOUT\u001b[0m\u001b[0;34m]\u001b[0m\u001b[0;34m,\u001b[0m \u001b[0msimple_mode\u001b[0m\u001b[0;34m=\u001b[0m\u001b[0;32mTrue\u001b[0m\u001b[0;34m)\u001b[0m\u001b[0;34m)\u001b[0m\u001b[0;34m\u001b[0m\u001b[0;34m\u001b[0m\u001b[0m\n\u001b[1;32m      5\u001b[0m \u001b[0mfunc\u001b[0m\u001b[0;34m=\u001b[0m\u001b[0mtvm\u001b[0m\u001b[0;34m.\u001b[0m\u001b[0mbuild\u001b[0m\u001b[0;34m(\u001b[0m\u001b[0ms\u001b[0m\u001b[0;34m,\u001b[0m\u001b[0;34m[\u001b[0m\u001b[0mdata\u001b[0m\u001b[0;34m,\u001b[0m\u001b[0mBOUT\u001b[0m\u001b[0;34m]\u001b[0m\u001b[0;34m)\u001b[0m\u001b[0;34m\u001b[0m\u001b[0;34m\u001b[0m\u001b[0m\n",
      "\u001b[0;31mNameError\u001b[0m: name 'V' is not defined"
     ]
    }
   ],
   "source": [
    "BOUT=V\n",
    "c_tvm = tvm.nd.empty(BOUT.shape, ctx=ctx,dtype='float32')\n",
    "s = te.create_schedule(BOUT.op)\n",
    "print(tvm.lower(s,[data,BOUT], simple_mode=True))\n",
    "func=tvm.build(s,[data,BOUT])\n",
    "print(func.imported_modules[0].get_source()) if len(func.imported_modules) > 0 else print(\"source not imported\")\n",
    "\n",
    "func(a_tvm,c_tvm)\n",
    "print(c_tvm.shape)"
   ]
  },
  {
   "cell_type": "code",
   "execution_count": 13,
   "id": "published-worcester",
   "metadata": {},
   "outputs": [
    {
     "ename": "NameError",
     "evalue": "name 'tvm' is not defined",
     "output_type": "error",
     "traceback": [
      "\u001b[0;31m---------------------------------------------------------------------------\u001b[0m",
      "\u001b[0;31mNameError\u001b[0m                                 Traceback (most recent call last)",
      "\u001b[0;32m<ipython-input-13-6d2f6a25d562>\u001b[0m in \u001b[0;36m<module>\u001b[0;34m\u001b[0m\n\u001b[0;32m----> 1\u001b[0;31m \u001b[0midxdiv\u001b[0m \u001b[0;34m=\u001b[0m \u001b[0mtvm\u001b[0m\u001b[0;34m.\u001b[0m\u001b[0mtir\u001b[0m\u001b[0;34m.\u001b[0m\u001b[0mindexdiv\u001b[0m\u001b[0;34m\u001b[0m\u001b[0;34m\u001b[0m\u001b[0m\n\u001b[0m\u001b[1;32m      2\u001b[0m \u001b[0midxmod\u001b[0m \u001b[0;34m=\u001b[0m \u001b[0mtvm\u001b[0m\u001b[0;34m.\u001b[0m\u001b[0mtir\u001b[0m\u001b[0;34m.\u001b[0m\u001b[0mindexmod\u001b[0m\u001b[0;34m\u001b[0m\u001b[0;34m\u001b[0m\u001b[0m\n\u001b[1;32m      3\u001b[0m \u001b[0;34m\u001b[0m\u001b[0m\n\u001b[1;32m      4\u001b[0m \u001b[0;31m# batch gemm\u001b[0m\u001b[0;34m\u001b[0m\u001b[0;34m\u001b[0m\u001b[0;34m\u001b[0m\u001b[0m\n\u001b[1;32m      5\u001b[0m \u001b[0mci\u001b[0m \u001b[0;34m=\u001b[0m \u001b[0mte\u001b[0m\u001b[0;34m.\u001b[0m\u001b[0mreduce_axis\u001b[0m\u001b[0;34m(\u001b[0m\u001b[0;34m(\u001b[0m\u001b[0;36m0\u001b[0m\u001b[0;34m,\u001b[0m \u001b[0mCI\u001b[0m\u001b[0;34m)\u001b[0m\u001b[0;34m,\u001b[0m \u001b[0mname\u001b[0m\u001b[0;34m=\u001b[0m\u001b[0;34m\"c\"\u001b[0m\u001b[0;34m)\u001b[0m\u001b[0;34m\u001b[0m\u001b[0;34m\u001b[0m\u001b[0m\n",
      "\u001b[0;31mNameError\u001b[0m: name 'tvm' is not defined"
     ]
    }
   ],
   "source": [
    "idxdiv = tvm.tir.indexdiv\n",
    "idxmod = tvm.tir.indexmod\n",
    "\n",
    "# batch gemm\n",
    "ci = te.reduce_axis((0, CI), name=\"c\")\n",
    "M = te.compute(\n",
    "    (alpha, alpha, CO, P_round),\n",
    "    lambda eps, nu, co, p: te.sum(\n",
    "        U[eps][nu][idxdiv(co, bna)][ci][idxmod(co, bna)]\n",
    "        * V[eps][nu][idxdiv(p, bnb)][ci][idxmod(p, bnb)],\n",
    "        axis=ci,\n",
    "    ),\n",
    "    name=\"M\",\n",
    ")"
   ]
  },
  {
   "cell_type": "code",
   "execution_count": 73,
   "id": "transparent-breed",
   "metadata": {},
   "outputs": [],
   "source": [
    "from sympy import Matrix\n",
    "import numpy as np\n",
    "import sympy as sym\n",
    "ab=sym.symbols('a11,a12,a13,a21,a22,a23,a31,a32,a33,d11,d12,d13,d21,d22,d23,d31,d32,d33')"
   ]
  },
  {
   "cell_type": "code",
   "execution_count": 74,
   "id": "white-astronomy",
   "metadata": {},
   "outputs": [
    {
     "data": {
      "text/latex": [
       "$\\displaystyle a_{00}^{2} d_{00} + a_{00} a_{01} d_{01} + a_{00} a_{01} d_{10} + a_{00} a_{02} d_{02} + a_{00} a_{02} d_{20} + a_{00} a_{03} d_{03} + a_{00} a_{03} d_{30} + a_{01}^{2} d_{11} + a_{01} a_{02} d_{12} + a_{01} a_{02} d_{21} + a_{01} a_{03} d_{13} + a_{01} a_{03} d_{31} + a_{02}^{2} d_{22} + a_{02} a_{03} d_{23} + a_{02} a_{03} d_{32} + a_{03}^{2} d_{33}$"
      ],
      "text/plain": [
       "a00**2*d00 + a00*a01*d01 + a00*a01*d10 + a00*a02*d02 + a00*a02*d20 + a00*a03*d03 + a00*a03*d30 + a01**2*d11 + a01*a02*d12 + a01*a02*d21 + a01*a03*d13 + a01*a03*d31 + a02**2*d22 + a02*a03*d23 + a02*a03*d32 + a03**2*d33"
      ]
     },
     "execution_count": 74,
     "metadata": {},
     "output_type": "execute_result"
    }
   ],
   "source": [
    "Bm=Matrix(np.array(['a'+str(i//4)+str(i%4) for i in range(16)]).reshape(4,4))\n",
    "#Bm=Matrix([[1,0,-1,0],[0,1,1,0],[0,-1,1,0],[0,1,0,1]])\n",
    "dm=Matrix(np.array(['d'+str(i//4)+str(i%4) for i in range(16)]).reshape(4,4))\n",
    "#dm=sym.ones(3,3)\n",
    "em=sym.expand(Bm*dm*Bm.T)\n",
    "em[0]\n",
    "#em.reshape(9,1)\n"
   ]
  },
  {
   "cell_type": "code",
   "execution_count": null,
   "id": "nearby-olympus",
   "metadata": {},
   "outputs": [],
   "source": [
    "sym.expand(\"(a31+a32+a33)*(a11+a12+a13)\")"
   ]
  },
  {
   "cell_type": "code",
   "execution_count": 16,
   "id": "jewish-input",
   "metadata": {},
   "outputs": [
    {
     "ename": "NameError",
     "evalue": "name 'B_data' is not defined",
     "output_type": "error",
     "traceback": [
      "\u001b[0;31m---------------------------------------------------------------------------\u001b[0m",
      "\u001b[0;31mNameError\u001b[0m                                 Traceback (most recent call last)",
      "\u001b[0;32m<ipython-input-16-78c7952a4f74>\u001b[0m in \u001b[0;36m<module>\u001b[0;34m\u001b[0m\n\u001b[0;32m----> 1\u001b[0;31m \u001b[0mbm\u001b[0m\u001b[0;34m=\u001b[0m\u001b[0mMatrix\u001b[0m\u001b[0;34m(\u001b[0m\u001b[0mB_data\u001b[0m\u001b[0;34m)\u001b[0m\u001b[0;34m\u001b[0m\u001b[0;34m\u001b[0m\u001b[0m\n\u001b[0m\u001b[1;32m      2\u001b[0m \u001b[0mdm\u001b[0m\u001b[0;34m=\u001b[0m\u001b[0mMatrix\u001b[0m\u001b[0;34m(\u001b[0m\u001b[0mnp\u001b[0m\u001b[0;34m.\u001b[0m\u001b[0marray\u001b[0m\u001b[0;34m(\u001b[0m\u001b[0;34m[\u001b[0m\u001b[0;34m'a'\u001b[0m\u001b[0;34m+\u001b[0m\u001b[0mstr\u001b[0m\u001b[0;34m(\u001b[0m\u001b[0mi\u001b[0m\u001b[0;34m//\u001b[0m\u001b[0;36m8\u001b[0m\u001b[0;34m)\u001b[0m\u001b[0;34m+\u001b[0m\u001b[0mstr\u001b[0m\u001b[0;34m(\u001b[0m\u001b[0mi\u001b[0m\u001b[0;34m%\u001b[0m\u001b[0;36m8\u001b[0m\u001b[0;34m)\u001b[0m \u001b[0;32mfor\u001b[0m \u001b[0mi\u001b[0m \u001b[0;32min\u001b[0m \u001b[0mrange\u001b[0m\u001b[0;34m(\u001b[0m\u001b[0;36m64\u001b[0m\u001b[0;34m)\u001b[0m\u001b[0;34m]\u001b[0m\u001b[0;34m)\u001b[0m\u001b[0;34m.\u001b[0m\u001b[0mreshape\u001b[0m\u001b[0;34m(\u001b[0m\u001b[0;36m8\u001b[0m\u001b[0;34m,\u001b[0m\u001b[0;36m8\u001b[0m\u001b[0;34m)\u001b[0m\u001b[0;34m)\u001b[0m\u001b[0;34m\u001b[0m\u001b[0;34m\u001b[0m\u001b[0m\n\u001b[1;32m      3\u001b[0m \u001b[0;31m#dm=sym.ones(8,8)\u001b[0m\u001b[0;34m\u001b[0m\u001b[0;34m\u001b[0m\u001b[0;34m\u001b[0m\u001b[0m\n\u001b[1;32m      4\u001b[0m \u001b[0mem\u001b[0m\u001b[0;34m=\u001b[0m\u001b[0;34m(\u001b[0m\u001b[0mbm\u001b[0m\u001b[0;34m.\u001b[0m\u001b[0mT\u001b[0m\u001b[0;34m*\u001b[0m\u001b[0mdm\u001b[0m\u001b[0;34m*\u001b[0m\u001b[0mbm\u001b[0m\u001b[0;34m)\u001b[0m\u001b[0;34m\u001b[0m\u001b[0;34m\u001b[0m\u001b[0m\n\u001b[1;32m      5\u001b[0m \u001b[0mem\u001b[0m\u001b[0;34m.\u001b[0m\u001b[0mreshape\u001b[0m\u001b[0;34m(\u001b[0m\u001b[0;36m64\u001b[0m\u001b[0;34m,\u001b[0m\u001b[0;36m1\u001b[0m\u001b[0;34m)\u001b[0m\u001b[0;34m\u001b[0m\u001b[0;34m\u001b[0m\u001b[0m\n",
      "\u001b[0;31mNameError\u001b[0m: name 'B_data' is not defined"
     ]
    }
   ],
   "source": [
    "bm=Matrix(B_data)\n",
    "dm=Matrix(np.array(['a'+str(i//8)+str(i%8) for i in range(64)]).reshape(8,8))\n",
    "#dm=sym.ones(8,8)\n",
    "em=(bm.T*dm*bm)\n",
    "em.reshape(64,1)"
   ]
  },
  {
   "cell_type": "code",
   "execution_count": 17,
   "id": "forbidden-processor",
   "metadata": {},
   "outputs": [
    {
     "ename": "ModuleNotFoundError",
     "evalue": "No module named 'tvm'",
     "output_type": "error",
     "traceback": [
      "\u001b[0;31m---------------------------------------------------------------------------\u001b[0m",
      "\u001b[0;31mModuleNotFoundError\u001b[0m                       Traceback (most recent call last)",
      "\u001b[0;32m<ipython-input-17-7ccc44886b2e>\u001b[0m in \u001b[0;36m<module>\u001b[0;34m\u001b[0m\n\u001b[0;32m----> 1\u001b[0;31m \u001b[0;32mfrom\u001b[0m \u001b[0mtvm\u001b[0m \u001b[0;32mimport\u001b[0m \u001b[0mrelay\u001b[0m\u001b[0;34m\u001b[0m\u001b[0;34m\u001b[0m\u001b[0m\n\u001b[0m\u001b[1;32m      2\u001b[0m \u001b[0;32mfrom\u001b[0m \u001b[0mtvm\u001b[0m\u001b[0;34m.\u001b[0m\u001b[0mrelay\u001b[0m \u001b[0;32mimport\u001b[0m \u001b[0mtesting\u001b[0m\u001b[0;34m\u001b[0m\u001b[0;34m\u001b[0m\u001b[0m\n\u001b[1;32m      3\u001b[0m \u001b[0;32mfrom\u001b[0m \u001b[0mtvm\u001b[0m\u001b[0;34m.\u001b[0m\u001b[0mcontrib\u001b[0m \u001b[0;32mimport\u001b[0m \u001b[0mutils\u001b[0m\u001b[0;34m\u001b[0m\u001b[0;34m\u001b[0m\u001b[0m\n\u001b[1;32m      4\u001b[0m \u001b[0;32mimport\u001b[0m \u001b[0mtvm\u001b[0m\u001b[0;34m\u001b[0m\u001b[0;34m\u001b[0m\u001b[0m\n\u001b[1;32m      5\u001b[0m \u001b[0;34m\u001b[0m\u001b[0m\n",
      "\u001b[0;31mModuleNotFoundError\u001b[0m: No module named 'tvm'"
     ]
    }
   ],
   "source": [
    "from tvm import relay\n",
    "from tvm.relay import testing\n",
    "from tvm.contrib import utils\n",
    "import tvm\n",
    "\n",
    "# Resnet18 workload\n",
    "resnet18_mod, resnet18_params = relay.testing.resnet.get_workload(num_layers=18)\n",
    "\n",
    "with relay.build_config(opt_level=0):\n",
    "    _, resnet18_lib, _ = relay.build_module.build(resnet18_mod, \"llvm\", params=resnet18_params)\n",
    "\n",
    "# print relay ir\n",
    "print(resnet18_mod.astext(show_meta_data=False))\n",
    "\n",
    "# print source code\n",
    "print(resnet18_lib.get_source())"
   ]
  },
  {
   "cell_type": "code",
   "execution_count": null,
   "id": "dirty-shannon",
   "metadata": {},
   "outputs": [],
   "source": []
  },
  {
   "cell_type": "code",
   "execution_count": null,
   "id": "creative-broadcasting",
   "metadata": {},
   "outputs": [],
   "source": []
  }
 ],
 "metadata": {
  "kernelspec": {
   "display_name": "Python 3",
   "language": "python",
   "name": "python3"
  },
  "language_info": {
   "codemirror_mode": {
    "name": "ipython",
    "version": 3
   },
   "file_extension": ".py",
   "mimetype": "text/x-python",
   "name": "python",
   "nbconvert_exporter": "python",
   "pygments_lexer": "ipython3",
   "version": "3.8.5"
  }
 },
 "nbformat": 4,
 "nbformat_minor": 5
}
